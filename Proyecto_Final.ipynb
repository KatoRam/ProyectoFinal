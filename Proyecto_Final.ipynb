{
  "nbformat": 4,
  "nbformat_minor": 0,
  "metadata": {
    "colab": {
      "provenance": [],
      "collapsed_sections": [
        "7VU0KGwWc1P8"
      ]
    },
    "kernelspec": {
      "name": "python3",
      "display_name": "Python 3"
    },
    "language_info": {
      "name": "python"
    }
  },
  "cells": [
    {
      "cell_type": "markdown",
      "source": [
        "# ***Librerias***"
      ],
      "metadata": {
        "id": "KbP5jZ_BS0xf"
      }
    },
    {
      "cell_type": "code",
      "source": [
        "import numpy as np \n",
        "import pandas as pd \n",
        "import matplotlib.pyplot as plt\n",
        "import seaborn as sns"
      ],
      "metadata": {
        "id": "JA97p5cbarx9"
      },
      "execution_count": 61,
      "outputs": []
    },
    {
      "cell_type": "markdown",
      "source": [
        "# ***Dataset***"
      ],
      "metadata": {
        "id": "cpZkCLOWTB-Q"
      }
    },
    {
      "cell_type": "code",
      "source": [
        "bank_df = pd.read_csv('BankChurners.csv')\n",
        "bank_df.head()"
      ],
      "metadata": {
        "colab": {
          "base_uri": "https://localhost:8080/",
          "height": 386
        },
        "id": "5y14B30yaq45",
        "outputId": "9ae679f3-8646-42ce-9671-518951f177a1"
      },
      "execution_count": 62,
      "outputs": [
        {
          "output_type": "execute_result",
          "data": {
            "text/plain": [
              "   CLIENTNUM     Attrition_Flag  Customer_Age Gender  Dependent_count  \\\n",
              "0  768805383  Existing Customer            45      M                3   \n",
              "1  818770008  Existing Customer            49      F                5   \n",
              "2  713982108  Existing Customer            51      M                3   \n",
              "3  769911858  Existing Customer            40      F                4   \n",
              "4  709106358  Existing Customer            40      M                3   \n",
              "\n",
              "  Education_Level Marital_Status Income_Category Card_Category  \\\n",
              "0     High School        Married     $60K - $80K          Blue   \n",
              "1        Graduate         Single  Less than $40K          Blue   \n",
              "2        Graduate        Married    $80K - $120K          Blue   \n",
              "3     High School        Unknown  Less than $40K          Blue   \n",
              "4      Uneducated        Married     $60K - $80K          Blue   \n",
              "\n",
              "   Months_on_book  ...  Credit_Limit  Total_Revolving_Bal  Avg_Open_To_Buy  \\\n",
              "0              39  ...       12691.0                  777          11914.0   \n",
              "1              44  ...        8256.0                  864           7392.0   \n",
              "2              36  ...        3418.0                    0           3418.0   \n",
              "3              34  ...        3313.0                 2517            796.0   \n",
              "4              21  ...        4716.0                    0           4716.0   \n",
              "\n",
              "   Total_Amt_Chng_Q4_Q1  Total_Trans_Amt  Total_Trans_Ct  Total_Ct_Chng_Q4_Q1  \\\n",
              "0                 1.335             1144              42                1.625   \n",
              "1                 1.541             1291              33                3.714   \n",
              "2                 2.594             1887              20                2.333   \n",
              "3                 1.405             1171              20                2.333   \n",
              "4                 2.175              816              28                2.500   \n",
              "\n",
              "   Avg_Utilization_Ratio  \\\n",
              "0                  0.061   \n",
              "1                  0.105   \n",
              "2                  0.000   \n",
              "3                  0.760   \n",
              "4                  0.000   \n",
              "\n",
              "   Naive_Bayes_Classifier_Attrition_Flag_Card_Category_Contacts_Count_12_mon_Dependent_count_Education_Level_Months_Inactive_12_mon_1  \\\n",
              "0                                           0.000093                                                                                    \n",
              "1                                           0.000057                                                                                    \n",
              "2                                           0.000021                                                                                    \n",
              "3                                           0.000134                                                                                    \n",
              "4                                           0.000022                                                                                    \n",
              "\n",
              "   Naive_Bayes_Classifier_Attrition_Flag_Card_Category_Contacts_Count_12_mon_Dependent_count_Education_Level_Months_Inactive_12_mon_2  \n",
              "0                                            0.99991                                                                                   \n",
              "1                                            0.99994                                                                                   \n",
              "2                                            0.99998                                                                                   \n",
              "3                                            0.99987                                                                                   \n",
              "4                                            0.99998                                                                                   \n",
              "\n",
              "[5 rows x 23 columns]"
            ],
            "text/html": [
              "\n",
              "  <div id=\"df-599b46e0-20a3-4a7f-b114-2add99de41ab\">\n",
              "    <div class=\"colab-df-container\">\n",
              "      <div>\n",
              "<style scoped>\n",
              "    .dataframe tbody tr th:only-of-type {\n",
              "        vertical-align: middle;\n",
              "    }\n",
              "\n",
              "    .dataframe tbody tr th {\n",
              "        vertical-align: top;\n",
              "    }\n",
              "\n",
              "    .dataframe thead th {\n",
              "        text-align: right;\n",
              "    }\n",
              "</style>\n",
              "<table border=\"1\" class=\"dataframe\">\n",
              "  <thead>\n",
              "    <tr style=\"text-align: right;\">\n",
              "      <th></th>\n",
              "      <th>CLIENTNUM</th>\n",
              "      <th>Attrition_Flag</th>\n",
              "      <th>Customer_Age</th>\n",
              "      <th>Gender</th>\n",
              "      <th>Dependent_count</th>\n",
              "      <th>Education_Level</th>\n",
              "      <th>Marital_Status</th>\n",
              "      <th>Income_Category</th>\n",
              "      <th>Card_Category</th>\n",
              "      <th>Months_on_book</th>\n",
              "      <th>...</th>\n",
              "      <th>Credit_Limit</th>\n",
              "      <th>Total_Revolving_Bal</th>\n",
              "      <th>Avg_Open_To_Buy</th>\n",
              "      <th>Total_Amt_Chng_Q4_Q1</th>\n",
              "      <th>Total_Trans_Amt</th>\n",
              "      <th>Total_Trans_Ct</th>\n",
              "      <th>Total_Ct_Chng_Q4_Q1</th>\n",
              "      <th>Avg_Utilization_Ratio</th>\n",
              "      <th>Naive_Bayes_Classifier_Attrition_Flag_Card_Category_Contacts_Count_12_mon_Dependent_count_Education_Level_Months_Inactive_12_mon_1</th>\n",
              "      <th>Naive_Bayes_Classifier_Attrition_Flag_Card_Category_Contacts_Count_12_mon_Dependent_count_Education_Level_Months_Inactive_12_mon_2</th>\n",
              "    </tr>\n",
              "  </thead>\n",
              "  <tbody>\n",
              "    <tr>\n",
              "      <th>0</th>\n",
              "      <td>768805383</td>\n",
              "      <td>Existing Customer</td>\n",
              "      <td>45</td>\n",
              "      <td>M</td>\n",
              "      <td>3</td>\n",
              "      <td>High School</td>\n",
              "      <td>Married</td>\n",
              "      <td>$60K - $80K</td>\n",
              "      <td>Blue</td>\n",
              "      <td>39</td>\n",
              "      <td>...</td>\n",
              "      <td>12691.0</td>\n",
              "      <td>777</td>\n",
              "      <td>11914.0</td>\n",
              "      <td>1.335</td>\n",
              "      <td>1144</td>\n",
              "      <td>42</td>\n",
              "      <td>1.625</td>\n",
              "      <td>0.061</td>\n",
              "      <td>0.000093</td>\n",
              "      <td>0.99991</td>\n",
              "    </tr>\n",
              "    <tr>\n",
              "      <th>1</th>\n",
              "      <td>818770008</td>\n",
              "      <td>Existing Customer</td>\n",
              "      <td>49</td>\n",
              "      <td>F</td>\n",
              "      <td>5</td>\n",
              "      <td>Graduate</td>\n",
              "      <td>Single</td>\n",
              "      <td>Less than $40K</td>\n",
              "      <td>Blue</td>\n",
              "      <td>44</td>\n",
              "      <td>...</td>\n",
              "      <td>8256.0</td>\n",
              "      <td>864</td>\n",
              "      <td>7392.0</td>\n",
              "      <td>1.541</td>\n",
              "      <td>1291</td>\n",
              "      <td>33</td>\n",
              "      <td>3.714</td>\n",
              "      <td>0.105</td>\n",
              "      <td>0.000057</td>\n",
              "      <td>0.99994</td>\n",
              "    </tr>\n",
              "    <tr>\n",
              "      <th>2</th>\n",
              "      <td>713982108</td>\n",
              "      <td>Existing Customer</td>\n",
              "      <td>51</td>\n",
              "      <td>M</td>\n",
              "      <td>3</td>\n",
              "      <td>Graduate</td>\n",
              "      <td>Married</td>\n",
              "      <td>$80K - $120K</td>\n",
              "      <td>Blue</td>\n",
              "      <td>36</td>\n",
              "      <td>...</td>\n",
              "      <td>3418.0</td>\n",
              "      <td>0</td>\n",
              "      <td>3418.0</td>\n",
              "      <td>2.594</td>\n",
              "      <td>1887</td>\n",
              "      <td>20</td>\n",
              "      <td>2.333</td>\n",
              "      <td>0.000</td>\n",
              "      <td>0.000021</td>\n",
              "      <td>0.99998</td>\n",
              "    </tr>\n",
              "    <tr>\n",
              "      <th>3</th>\n",
              "      <td>769911858</td>\n",
              "      <td>Existing Customer</td>\n",
              "      <td>40</td>\n",
              "      <td>F</td>\n",
              "      <td>4</td>\n",
              "      <td>High School</td>\n",
              "      <td>Unknown</td>\n",
              "      <td>Less than $40K</td>\n",
              "      <td>Blue</td>\n",
              "      <td>34</td>\n",
              "      <td>...</td>\n",
              "      <td>3313.0</td>\n",
              "      <td>2517</td>\n",
              "      <td>796.0</td>\n",
              "      <td>1.405</td>\n",
              "      <td>1171</td>\n",
              "      <td>20</td>\n",
              "      <td>2.333</td>\n",
              "      <td>0.760</td>\n",
              "      <td>0.000134</td>\n",
              "      <td>0.99987</td>\n",
              "    </tr>\n",
              "    <tr>\n",
              "      <th>4</th>\n",
              "      <td>709106358</td>\n",
              "      <td>Existing Customer</td>\n",
              "      <td>40</td>\n",
              "      <td>M</td>\n",
              "      <td>3</td>\n",
              "      <td>Uneducated</td>\n",
              "      <td>Married</td>\n",
              "      <td>$60K - $80K</td>\n",
              "      <td>Blue</td>\n",
              "      <td>21</td>\n",
              "      <td>...</td>\n",
              "      <td>4716.0</td>\n",
              "      <td>0</td>\n",
              "      <td>4716.0</td>\n",
              "      <td>2.175</td>\n",
              "      <td>816</td>\n",
              "      <td>28</td>\n",
              "      <td>2.500</td>\n",
              "      <td>0.000</td>\n",
              "      <td>0.000022</td>\n",
              "      <td>0.99998</td>\n",
              "    </tr>\n",
              "  </tbody>\n",
              "</table>\n",
              "<p>5 rows × 23 columns</p>\n",
              "</div>\n",
              "      <button class=\"colab-df-convert\" onclick=\"convertToInteractive('df-599b46e0-20a3-4a7f-b114-2add99de41ab')\"\n",
              "              title=\"Convert this dataframe to an interactive table.\"\n",
              "              style=\"display:none;\">\n",
              "        \n",
              "  <svg xmlns=\"http://www.w3.org/2000/svg\" height=\"24px\"viewBox=\"0 0 24 24\"\n",
              "       width=\"24px\">\n",
              "    <path d=\"M0 0h24v24H0V0z\" fill=\"none\"/>\n",
              "    <path d=\"M18.56 5.44l.94 2.06.94-2.06 2.06-.94-2.06-.94-.94-2.06-.94 2.06-2.06.94zm-11 1L8.5 8.5l.94-2.06 2.06-.94-2.06-.94L8.5 2.5l-.94 2.06-2.06.94zm10 10l.94 2.06.94-2.06 2.06-.94-2.06-.94-.94-2.06-.94 2.06-2.06.94z\"/><path d=\"M17.41 7.96l-1.37-1.37c-.4-.4-.92-.59-1.43-.59-.52 0-1.04.2-1.43.59L10.3 9.45l-7.72 7.72c-.78.78-.78 2.05 0 2.83L4 21.41c.39.39.9.59 1.41.59.51 0 1.02-.2 1.41-.59l7.78-7.78 2.81-2.81c.8-.78.8-2.07 0-2.86zM5.41 20L4 18.59l7.72-7.72 1.47 1.35L5.41 20z\"/>\n",
              "  </svg>\n",
              "      </button>\n",
              "      \n",
              "  <style>\n",
              "    .colab-df-container {\n",
              "      display:flex;\n",
              "      flex-wrap:wrap;\n",
              "      gap: 12px;\n",
              "    }\n",
              "\n",
              "    .colab-df-convert {\n",
              "      background-color: #E8F0FE;\n",
              "      border: none;\n",
              "      border-radius: 50%;\n",
              "      cursor: pointer;\n",
              "      display: none;\n",
              "      fill: #1967D2;\n",
              "      height: 32px;\n",
              "      padding: 0 0 0 0;\n",
              "      width: 32px;\n",
              "    }\n",
              "\n",
              "    .colab-df-convert:hover {\n",
              "      background-color: #E2EBFA;\n",
              "      box-shadow: 0px 1px 2px rgba(60, 64, 67, 0.3), 0px 1px 3px 1px rgba(60, 64, 67, 0.15);\n",
              "      fill: #174EA6;\n",
              "    }\n",
              "\n",
              "    [theme=dark] .colab-df-convert {\n",
              "      background-color: #3B4455;\n",
              "      fill: #D2E3FC;\n",
              "    }\n",
              "\n",
              "    [theme=dark] .colab-df-convert:hover {\n",
              "      background-color: #434B5C;\n",
              "      box-shadow: 0px 1px 3px 1px rgba(0, 0, 0, 0.15);\n",
              "      filter: drop-shadow(0px 1px 2px rgba(0, 0, 0, 0.3));\n",
              "      fill: #FFFFFF;\n",
              "    }\n",
              "  </style>\n",
              "\n",
              "      <script>\n",
              "        const buttonEl =\n",
              "          document.querySelector('#df-599b46e0-20a3-4a7f-b114-2add99de41ab button.colab-df-convert');\n",
              "        buttonEl.style.display =\n",
              "          google.colab.kernel.accessAllowed ? 'block' : 'none';\n",
              "\n",
              "        async function convertToInteractive(key) {\n",
              "          const element = document.querySelector('#df-599b46e0-20a3-4a7f-b114-2add99de41ab');\n",
              "          const dataTable =\n",
              "            await google.colab.kernel.invokeFunction('convertToInteractive',\n",
              "                                                     [key], {});\n",
              "          if (!dataTable) return;\n",
              "\n",
              "          const docLinkHtml = 'Like what you see? Visit the ' +\n",
              "            '<a target=\"_blank\" href=https://colab.research.google.com/notebooks/data_table.ipynb>data table notebook</a>'\n",
              "            + ' to learn more about interactive tables.';\n",
              "          element.innerHTML = '';\n",
              "          dataTable['output_type'] = 'display_data';\n",
              "          await google.colab.output.renderOutput(dataTable, element);\n",
              "          const docLink = document.createElement('div');\n",
              "          docLink.innerHTML = docLinkHtml;\n",
              "          element.appendChild(docLink);\n",
              "        }\n",
              "      </script>\n",
              "    </div>\n",
              "  </div>\n",
              "  "
            ]
          },
          "metadata": {},
          "execution_count": 62
        }
      ]
    },
    {
      "cell_type": "code",
      "source": [
        "bank_df.isnull().sum()"
      ],
      "metadata": {
        "colab": {
          "base_uri": "https://localhost:8080/"
        },
        "id": "KXGgrqvYbVyo",
        "outputId": "646f17d3-19ce-4a1c-fbc3-ea3c74a75a57"
      },
      "execution_count": 63,
      "outputs": [
        {
          "output_type": "execute_result",
          "data": {
            "text/plain": [
              "CLIENTNUM                                                                                                                             0\n",
              "Attrition_Flag                                                                                                                        0\n",
              "Customer_Age                                                                                                                          0\n",
              "Gender                                                                                                                                0\n",
              "Dependent_count                                                                                                                       0\n",
              "Education_Level                                                                                                                       0\n",
              "Marital_Status                                                                                                                        0\n",
              "Income_Category                                                                                                                       0\n",
              "Card_Category                                                                                                                         0\n",
              "Months_on_book                                                                                                                        0\n",
              "Total_Relationship_Count                                                                                                              0\n",
              "Months_Inactive_12_mon                                                                                                                0\n",
              "Contacts_Count_12_mon                                                                                                                 0\n",
              "Credit_Limit                                                                                                                          0\n",
              "Total_Revolving_Bal                                                                                                                   0\n",
              "Avg_Open_To_Buy                                                                                                                       0\n",
              "Total_Amt_Chng_Q4_Q1                                                                                                                  0\n",
              "Total_Trans_Amt                                                                                                                       0\n",
              "Total_Trans_Ct                                                                                                                        0\n",
              "Total_Ct_Chng_Q4_Q1                                                                                                                   0\n",
              "Avg_Utilization_Ratio                                                                                                                 0\n",
              "Naive_Bayes_Classifier_Attrition_Flag_Card_Category_Contacts_Count_12_mon_Dependent_count_Education_Level_Months_Inactive_12_mon_1    0\n",
              "Naive_Bayes_Classifier_Attrition_Flag_Card_Category_Contacts_Count_12_mon_Dependent_count_Education_Level_Months_Inactive_12_mon_2    0\n",
              "dtype: int64"
            ]
          },
          "metadata": {},
          "execution_count": 63
        }
      ]
    },
    {
      "cell_type": "code",
      "source": [
        "bank_df.describe()"
      ],
      "metadata": {
        "colab": {
          "base_uri": "https://localhost:8080/",
          "height": 364
        },
        "id": "oducwIEpbeAg",
        "outputId": "a839a978-1e08-4114-aa7c-c4f8fbfa3041"
      },
      "execution_count": 64,
      "outputs": [
        {
          "output_type": "execute_result",
          "data": {
            "text/plain": [
              "          CLIENTNUM  Customer_Age  Dependent_count  Months_on_book  \\\n",
              "count  1.012700e+04  10127.000000     10127.000000    10127.000000   \n",
              "mean   7.391776e+08     46.325960         2.346203       35.928409   \n",
              "std    3.690378e+07      8.016814         1.298908        7.986416   \n",
              "min    7.080821e+08     26.000000         0.000000       13.000000   \n",
              "25%    7.130368e+08     41.000000         1.000000       31.000000   \n",
              "50%    7.179264e+08     46.000000         2.000000       36.000000   \n",
              "75%    7.731435e+08     52.000000         3.000000       40.000000   \n",
              "max    8.283431e+08     73.000000         5.000000       56.000000   \n",
              "\n",
              "       Total_Relationship_Count  Months_Inactive_12_mon  \\\n",
              "count              10127.000000            10127.000000   \n",
              "mean                   3.812580                2.341167   \n",
              "std                    1.554408                1.010622   \n",
              "min                    1.000000                0.000000   \n",
              "25%                    3.000000                2.000000   \n",
              "50%                    4.000000                2.000000   \n",
              "75%                    5.000000                3.000000   \n",
              "max                    6.000000                6.000000   \n",
              "\n",
              "       Contacts_Count_12_mon  Credit_Limit  Total_Revolving_Bal  \\\n",
              "count           10127.000000  10127.000000         10127.000000   \n",
              "mean                2.455317   8631.953698          1162.814061   \n",
              "std                 1.106225   9088.776650           814.987335   \n",
              "min                 0.000000   1438.300000             0.000000   \n",
              "25%                 2.000000   2555.000000           359.000000   \n",
              "50%                 2.000000   4549.000000          1276.000000   \n",
              "75%                 3.000000  11067.500000          1784.000000   \n",
              "max                 6.000000  34516.000000          2517.000000   \n",
              "\n",
              "       Avg_Open_To_Buy  Total_Amt_Chng_Q4_Q1  Total_Trans_Amt  Total_Trans_Ct  \\\n",
              "count     10127.000000          10127.000000     10127.000000    10127.000000   \n",
              "mean       7469.139637              0.759941      4404.086304       64.858695   \n",
              "std        9090.685324              0.219207      3397.129254       23.472570   \n",
              "min           3.000000              0.000000       510.000000       10.000000   \n",
              "25%        1324.500000              0.631000      2155.500000       45.000000   \n",
              "50%        3474.000000              0.736000      3899.000000       67.000000   \n",
              "75%        9859.000000              0.859000      4741.000000       81.000000   \n",
              "max       34516.000000              3.397000     18484.000000      139.000000   \n",
              "\n",
              "       Total_Ct_Chng_Q4_Q1  Avg_Utilization_Ratio  \\\n",
              "count         10127.000000           10127.000000   \n",
              "mean              0.712222               0.274894   \n",
              "std               0.238086               0.275691   \n",
              "min               0.000000               0.000000   \n",
              "25%               0.582000               0.023000   \n",
              "50%               0.702000               0.176000   \n",
              "75%               0.818000               0.503000   \n",
              "max               3.714000               0.999000   \n",
              "\n",
              "       Naive_Bayes_Classifier_Attrition_Flag_Card_Category_Contacts_Count_12_mon_Dependent_count_Education_Level_Months_Inactive_12_mon_1  \\\n",
              "count                                       10127.000000                                                                                    \n",
              "mean                                            0.159997                                                                                    \n",
              "std                                             0.365301                                                                                    \n",
              "min                                             0.000008                                                                                    \n",
              "25%                                             0.000099                                                                                    \n",
              "50%                                             0.000181                                                                                    \n",
              "75%                                             0.000337                                                                                    \n",
              "max                                             0.999580                                                                                    \n",
              "\n",
              "       Naive_Bayes_Classifier_Attrition_Flag_Card_Category_Contacts_Count_12_mon_Dependent_count_Education_Level_Months_Inactive_12_mon_2  \n",
              "count                                       10127.000000                                                                                   \n",
              "mean                                            0.840003                                                                                   \n",
              "std                                             0.365301                                                                                   \n",
              "min                                             0.000420                                                                                   \n",
              "25%                                             0.999660                                                                                   \n",
              "50%                                             0.999820                                                                                   \n",
              "75%                                             0.999900                                                                                   \n",
              "max                                             0.999990                                                                                   "
            ],
            "text/html": [
              "\n",
              "  <div id=\"df-34817728-2418-4302-9bbc-8dec9fc03623\">\n",
              "    <div class=\"colab-df-container\">\n",
              "      <div>\n",
              "<style scoped>\n",
              "    .dataframe tbody tr th:only-of-type {\n",
              "        vertical-align: middle;\n",
              "    }\n",
              "\n",
              "    .dataframe tbody tr th {\n",
              "        vertical-align: top;\n",
              "    }\n",
              "\n",
              "    .dataframe thead th {\n",
              "        text-align: right;\n",
              "    }\n",
              "</style>\n",
              "<table border=\"1\" class=\"dataframe\">\n",
              "  <thead>\n",
              "    <tr style=\"text-align: right;\">\n",
              "      <th></th>\n",
              "      <th>CLIENTNUM</th>\n",
              "      <th>Customer_Age</th>\n",
              "      <th>Dependent_count</th>\n",
              "      <th>Months_on_book</th>\n",
              "      <th>Total_Relationship_Count</th>\n",
              "      <th>Months_Inactive_12_mon</th>\n",
              "      <th>Contacts_Count_12_mon</th>\n",
              "      <th>Credit_Limit</th>\n",
              "      <th>Total_Revolving_Bal</th>\n",
              "      <th>Avg_Open_To_Buy</th>\n",
              "      <th>Total_Amt_Chng_Q4_Q1</th>\n",
              "      <th>Total_Trans_Amt</th>\n",
              "      <th>Total_Trans_Ct</th>\n",
              "      <th>Total_Ct_Chng_Q4_Q1</th>\n",
              "      <th>Avg_Utilization_Ratio</th>\n",
              "      <th>Naive_Bayes_Classifier_Attrition_Flag_Card_Category_Contacts_Count_12_mon_Dependent_count_Education_Level_Months_Inactive_12_mon_1</th>\n",
              "      <th>Naive_Bayes_Classifier_Attrition_Flag_Card_Category_Contacts_Count_12_mon_Dependent_count_Education_Level_Months_Inactive_12_mon_2</th>\n",
              "    </tr>\n",
              "  </thead>\n",
              "  <tbody>\n",
              "    <tr>\n",
              "      <th>count</th>\n",
              "      <td>1.012700e+04</td>\n",
              "      <td>10127.000000</td>\n",
              "      <td>10127.000000</td>\n",
              "      <td>10127.000000</td>\n",
              "      <td>10127.000000</td>\n",
              "      <td>10127.000000</td>\n",
              "      <td>10127.000000</td>\n",
              "      <td>10127.000000</td>\n",
              "      <td>10127.000000</td>\n",
              "      <td>10127.000000</td>\n",
              "      <td>10127.000000</td>\n",
              "      <td>10127.000000</td>\n",
              "      <td>10127.000000</td>\n",
              "      <td>10127.000000</td>\n",
              "      <td>10127.000000</td>\n",
              "      <td>10127.000000</td>\n",
              "      <td>10127.000000</td>\n",
              "    </tr>\n",
              "    <tr>\n",
              "      <th>mean</th>\n",
              "      <td>7.391776e+08</td>\n",
              "      <td>46.325960</td>\n",
              "      <td>2.346203</td>\n",
              "      <td>35.928409</td>\n",
              "      <td>3.812580</td>\n",
              "      <td>2.341167</td>\n",
              "      <td>2.455317</td>\n",
              "      <td>8631.953698</td>\n",
              "      <td>1162.814061</td>\n",
              "      <td>7469.139637</td>\n",
              "      <td>0.759941</td>\n",
              "      <td>4404.086304</td>\n",
              "      <td>64.858695</td>\n",
              "      <td>0.712222</td>\n",
              "      <td>0.274894</td>\n",
              "      <td>0.159997</td>\n",
              "      <td>0.840003</td>\n",
              "    </tr>\n",
              "    <tr>\n",
              "      <th>std</th>\n",
              "      <td>3.690378e+07</td>\n",
              "      <td>8.016814</td>\n",
              "      <td>1.298908</td>\n",
              "      <td>7.986416</td>\n",
              "      <td>1.554408</td>\n",
              "      <td>1.010622</td>\n",
              "      <td>1.106225</td>\n",
              "      <td>9088.776650</td>\n",
              "      <td>814.987335</td>\n",
              "      <td>9090.685324</td>\n",
              "      <td>0.219207</td>\n",
              "      <td>3397.129254</td>\n",
              "      <td>23.472570</td>\n",
              "      <td>0.238086</td>\n",
              "      <td>0.275691</td>\n",
              "      <td>0.365301</td>\n",
              "      <td>0.365301</td>\n",
              "    </tr>\n",
              "    <tr>\n",
              "      <th>min</th>\n",
              "      <td>7.080821e+08</td>\n",
              "      <td>26.000000</td>\n",
              "      <td>0.000000</td>\n",
              "      <td>13.000000</td>\n",
              "      <td>1.000000</td>\n",
              "      <td>0.000000</td>\n",
              "      <td>0.000000</td>\n",
              "      <td>1438.300000</td>\n",
              "      <td>0.000000</td>\n",
              "      <td>3.000000</td>\n",
              "      <td>0.000000</td>\n",
              "      <td>510.000000</td>\n",
              "      <td>10.000000</td>\n",
              "      <td>0.000000</td>\n",
              "      <td>0.000000</td>\n",
              "      <td>0.000008</td>\n",
              "      <td>0.000420</td>\n",
              "    </tr>\n",
              "    <tr>\n",
              "      <th>25%</th>\n",
              "      <td>7.130368e+08</td>\n",
              "      <td>41.000000</td>\n",
              "      <td>1.000000</td>\n",
              "      <td>31.000000</td>\n",
              "      <td>3.000000</td>\n",
              "      <td>2.000000</td>\n",
              "      <td>2.000000</td>\n",
              "      <td>2555.000000</td>\n",
              "      <td>359.000000</td>\n",
              "      <td>1324.500000</td>\n",
              "      <td>0.631000</td>\n",
              "      <td>2155.500000</td>\n",
              "      <td>45.000000</td>\n",
              "      <td>0.582000</td>\n",
              "      <td>0.023000</td>\n",
              "      <td>0.000099</td>\n",
              "      <td>0.999660</td>\n",
              "    </tr>\n",
              "    <tr>\n",
              "      <th>50%</th>\n",
              "      <td>7.179264e+08</td>\n",
              "      <td>46.000000</td>\n",
              "      <td>2.000000</td>\n",
              "      <td>36.000000</td>\n",
              "      <td>4.000000</td>\n",
              "      <td>2.000000</td>\n",
              "      <td>2.000000</td>\n",
              "      <td>4549.000000</td>\n",
              "      <td>1276.000000</td>\n",
              "      <td>3474.000000</td>\n",
              "      <td>0.736000</td>\n",
              "      <td>3899.000000</td>\n",
              "      <td>67.000000</td>\n",
              "      <td>0.702000</td>\n",
              "      <td>0.176000</td>\n",
              "      <td>0.000181</td>\n",
              "      <td>0.999820</td>\n",
              "    </tr>\n",
              "    <tr>\n",
              "      <th>75%</th>\n",
              "      <td>7.731435e+08</td>\n",
              "      <td>52.000000</td>\n",
              "      <td>3.000000</td>\n",
              "      <td>40.000000</td>\n",
              "      <td>5.000000</td>\n",
              "      <td>3.000000</td>\n",
              "      <td>3.000000</td>\n",
              "      <td>11067.500000</td>\n",
              "      <td>1784.000000</td>\n",
              "      <td>9859.000000</td>\n",
              "      <td>0.859000</td>\n",
              "      <td>4741.000000</td>\n",
              "      <td>81.000000</td>\n",
              "      <td>0.818000</td>\n",
              "      <td>0.503000</td>\n",
              "      <td>0.000337</td>\n",
              "      <td>0.999900</td>\n",
              "    </tr>\n",
              "    <tr>\n",
              "      <th>max</th>\n",
              "      <td>8.283431e+08</td>\n",
              "      <td>73.000000</td>\n",
              "      <td>5.000000</td>\n",
              "      <td>56.000000</td>\n",
              "      <td>6.000000</td>\n",
              "      <td>6.000000</td>\n",
              "      <td>6.000000</td>\n",
              "      <td>34516.000000</td>\n",
              "      <td>2517.000000</td>\n",
              "      <td>34516.000000</td>\n",
              "      <td>3.397000</td>\n",
              "      <td>18484.000000</td>\n",
              "      <td>139.000000</td>\n",
              "      <td>3.714000</td>\n",
              "      <td>0.999000</td>\n",
              "      <td>0.999580</td>\n",
              "      <td>0.999990</td>\n",
              "    </tr>\n",
              "  </tbody>\n",
              "</table>\n",
              "</div>\n",
              "      <button class=\"colab-df-convert\" onclick=\"convertToInteractive('df-34817728-2418-4302-9bbc-8dec9fc03623')\"\n",
              "              title=\"Convert this dataframe to an interactive table.\"\n",
              "              style=\"display:none;\">\n",
              "        \n",
              "  <svg xmlns=\"http://www.w3.org/2000/svg\" height=\"24px\"viewBox=\"0 0 24 24\"\n",
              "       width=\"24px\">\n",
              "    <path d=\"M0 0h24v24H0V0z\" fill=\"none\"/>\n",
              "    <path d=\"M18.56 5.44l.94 2.06.94-2.06 2.06-.94-2.06-.94-.94-2.06-.94 2.06-2.06.94zm-11 1L8.5 8.5l.94-2.06 2.06-.94-2.06-.94L8.5 2.5l-.94 2.06-2.06.94zm10 10l.94 2.06.94-2.06 2.06-.94-2.06-.94-.94-2.06-.94 2.06-2.06.94z\"/><path d=\"M17.41 7.96l-1.37-1.37c-.4-.4-.92-.59-1.43-.59-.52 0-1.04.2-1.43.59L10.3 9.45l-7.72 7.72c-.78.78-.78 2.05 0 2.83L4 21.41c.39.39.9.59 1.41.59.51 0 1.02-.2 1.41-.59l7.78-7.78 2.81-2.81c.8-.78.8-2.07 0-2.86zM5.41 20L4 18.59l7.72-7.72 1.47 1.35L5.41 20z\"/>\n",
              "  </svg>\n",
              "      </button>\n",
              "      \n",
              "  <style>\n",
              "    .colab-df-container {\n",
              "      display:flex;\n",
              "      flex-wrap:wrap;\n",
              "      gap: 12px;\n",
              "    }\n",
              "\n",
              "    .colab-df-convert {\n",
              "      background-color: #E8F0FE;\n",
              "      border: none;\n",
              "      border-radius: 50%;\n",
              "      cursor: pointer;\n",
              "      display: none;\n",
              "      fill: #1967D2;\n",
              "      height: 32px;\n",
              "      padding: 0 0 0 0;\n",
              "      width: 32px;\n",
              "    }\n",
              "\n",
              "    .colab-df-convert:hover {\n",
              "      background-color: #E2EBFA;\n",
              "      box-shadow: 0px 1px 2px rgba(60, 64, 67, 0.3), 0px 1px 3px 1px rgba(60, 64, 67, 0.15);\n",
              "      fill: #174EA6;\n",
              "    }\n",
              "\n",
              "    [theme=dark] .colab-df-convert {\n",
              "      background-color: #3B4455;\n",
              "      fill: #D2E3FC;\n",
              "    }\n",
              "\n",
              "    [theme=dark] .colab-df-convert:hover {\n",
              "      background-color: #434B5C;\n",
              "      box-shadow: 0px 1px 3px 1px rgba(0, 0, 0, 0.15);\n",
              "      filter: drop-shadow(0px 1px 2px rgba(0, 0, 0, 0.3));\n",
              "      fill: #FFFFFF;\n",
              "    }\n",
              "  </style>\n",
              "\n",
              "      <script>\n",
              "        const buttonEl =\n",
              "          document.querySelector('#df-34817728-2418-4302-9bbc-8dec9fc03623 button.colab-df-convert');\n",
              "        buttonEl.style.display =\n",
              "          google.colab.kernel.accessAllowed ? 'block' : 'none';\n",
              "\n",
              "        async function convertToInteractive(key) {\n",
              "          const element = document.querySelector('#df-34817728-2418-4302-9bbc-8dec9fc03623');\n",
              "          const dataTable =\n",
              "            await google.colab.kernel.invokeFunction('convertToInteractive',\n",
              "                                                     [key], {});\n",
              "          if (!dataTable) return;\n",
              "\n",
              "          const docLinkHtml = 'Like what you see? Visit the ' +\n",
              "            '<a target=\"_blank\" href=https://colab.research.google.com/notebooks/data_table.ipynb>data table notebook</a>'\n",
              "            + ' to learn more about interactive tables.';\n",
              "          element.innerHTML = '';\n",
              "          dataTable['output_type'] = 'display_data';\n",
              "          await google.colab.output.renderOutput(dataTable, element);\n",
              "          const docLink = document.createElement('div');\n",
              "          docLink.innerHTML = docLinkHtml;\n",
              "          element.appendChild(docLink);\n",
              "        }\n",
              "      </script>\n",
              "    </div>\n",
              "  </div>\n",
              "  "
            ]
          },
          "metadata": {},
          "execution_count": 64
        }
      ]
    },
    {
      "cell_type": "markdown",
      "source": [
        "# ***Graficas***"
      ],
      "metadata": {
        "id": "7VU0KGwWc1P8"
      }
    },
    {
      "cell_type": "code",
      "source": [
        "plt.figure(figsize=(15,6))\n",
        "sns.set_theme(style='whitegrid')\n",
        "sns.countplot(x=bank_df.Customer_Age);"
      ],
      "metadata": {
        "colab": {
          "base_uri": "https://localhost:8080/",
          "height": 394
        },
        "id": "e8VWb_UnbhSR",
        "outputId": "905733b0-ceba-48ca-c14b-ee3be4782cf0"
      },
      "execution_count": 74,
      "outputs": [
        {
          "output_type": "display_data",
          "data": {
            "text/plain": [
              "<Figure size 1080x432 with 1 Axes>"
            ],
            "image/png": "[encoded data removed]"
          },
          "metadata": {}
        }
      ]
    },
    {
      "cell_type": "code",
      "source": [
        "genders = bank_df['Card_Category'].value_counts()\n",
        "\n",
        "plt.figure(figsize=(16,10))\n",
        "color = sns.set_palette('Set2')\n",
        "genders.plot.pie(autopct='%1.1f%%',colors=color)\n",
        "plt.title('% de Categoria de Tarjetas')\n",
        "plt.ylabel('');"
      ],
      "metadata": {
        "colab": {
          "base_uri": "https://localhost:8080/",
          "height": 591
        },
        "id": "TtcoGlqrbnp_",
        "outputId": "9ce4c8e8-5f4b-421a-db9a-3ea535f5d671"
      },
      "execution_count": 73,
      "outputs": [
        {
          "output_type": "display_data",
          "data": {
            "text/plain": [
              "<Figure size 1152x720 with 1 Axes>"
            ],
            "image/png": "[encoded data removed]"
          },
          "metadata": {}
        }
      ]
    },
    {
      "cell_type": "code",
      "source": [
        "plt.figure(figsize=(15,7))\n",
        "sns.countplot(x='Card_Category', data=bank_df, hue='Gender')"
      ],
      "metadata": {
        "colab": {
          "base_uri": "https://localhost:8080/",
          "height": 465
        },
        "id": "KFgUU2eQbtk9",
        "outputId": "e5212695-f59f-4a1c-fc48-f6453a01bda3"
      },
      "execution_count": 72,
      "outputs": [
        {
          "output_type": "execute_result",
          "data": {
            "text/plain": [
              "<matplotlib.axes._subplots.AxesSubplot at 0x7f1bd0964b80>"
            ]
          },
          "metadata": {},
          "execution_count": 72
        },
        {
          "output_type": "display_data",
          "data": {
            "text/plain": [
              "<Figure size 1080x504 with 1 Axes>"
            ],
            "image/png": "[encoded data removed]"
          },
          "metadata": {}
        }
      ]
    },
    {
      "cell_type": "code",
      "source": [
        "plt.figure(figsize=(15,7))\n",
        "sns.boxplot(x='Card_Category', y='Customer_Age', data=bank_df)\n",
        "plt.xlabel('Categoria de Tarjeta')\n",
        "plt.ylabel('Edad')"
      ],
      "metadata": {
        "colab": {
          "base_uri": "https://localhost:8080/",
          "height": 465
        },
        "id": "EMEc4jHyb2H1",
        "outputId": "c3cfa3f9-86e5-4c9a-a25a-7578664c3698"
      },
      "execution_count": 71,
      "outputs": [
        {
          "output_type": "execute_result",
          "data": {
            "text/plain": [
              "Text(0, 0.5, 'Edad')"
            ]
          },
          "metadata": {},
          "execution_count": 71
        },
        {
          "output_type": "display_data",
          "data": {
            "text/plain": [
              "<Figure size 1080x504 with 1 Axes>"
            ],
            "image/png": "[encoded data removed]"
          },
          "metadata": {}
        }
      ]
    },
    {
      "cell_type": "code",
      "source": [
        "bank_df.Income_Category.unique()"
      ],
      "metadata": {
        "colab": {
          "base_uri": "https://localhost:8080/"
        },
        "id": "EQkYEogOcQUa",
        "outputId": "8a675c4b-87eb-4790-bed4-309f4bb16a0f"
      },
      "execution_count": 75,
      "outputs": [
        {
          "output_type": "execute_result",
          "data": {
            "text/plain": [
              "array(['$60K - $80K', 'Less than $40K', '$80K - $120K', '$40K - $60K',\n",
              "       '$120K +', 'Unknown'], dtype=object)"
            ]
          },
          "metadata": {},
          "execution_count": 75
        }
      ]
    },
    {
      "cell_type": "code",
      "source": [
        "income_count = bank_df['Income_Category'].value_counts()\n",
        "\n",
        "plt.figure(figsize=(15,7))\n",
        "sns.barplot(x=income_count.index , y=income_count.values)\n",
        "plt.title('Categoria de Ingresos')"
      ],
      "metadata": {
        "colab": {
          "base_uri": "https://localhost:8080/",
          "height": 466
        },
        "id": "QFc0wX7YcUcQ",
        "outputId": "d8630242-e988-4180-9aa6-ea9b6d0b3a3d"
      },
      "execution_count": 77,
      "outputs": [
        {
          "output_type": "execute_result",
          "data": {
            "text/plain": [
              "Text(0.5, 1.0, 'Categoria de Ingresos')"
            ]
          },
          "metadata": {},
          "execution_count": 77
        },
        {
          "output_type": "display_data",
          "data": {
            "text/plain": [
              "<Figure size 1080x504 with 1 Axes>"
            ],
            "image/png": "[encoded data removed]"
          },
          "metadata": {}
        }
      ]
    },
    {
      "cell_type": "code",
      "source": [
        "plt.figure(figsize=(15,7))\n",
        "sns.countplot(x='Card_Category',data=bank_df,hue='Attrition_Flag')"
      ],
      "metadata": {
        "colab": {
          "base_uri": "https://localhost:8080/",
          "height": 465
        },
        "id": "gADC1ITYclx3",
        "outputId": "857668e1-333e-4206-bc08-e924e0cce11f"
      },
      "execution_count": 78,
      "outputs": [
        {
          "output_type": "execute_result",
          "data": {
            "text/plain": [
              "<matplotlib.axes._subplots.AxesSubplot at 0x7f1bdb696220>"
            ]
          },
          "metadata": {},
          "execution_count": 78
        },
        {
          "output_type": "display_data",
          "data": {
            "text/plain": [
              "<Figure size 1080x504 with 1 Axes>"
            ],
            "image/png": "[encoded data removed]"
          },
          "metadata": {}
        }
      ]
    },
    {
      "cell_type": "code",
      "source": [
        "attrition = bank_df.Attrition_Flag.value_counts()\n",
        "\n",
        "plt.figure(figsize=(14,7))"
      ],
      "metadata": {
        "colab": {
          "base_uri": "https://localhost:8080/",
          "height": 52
        },
        "id": "YfQ2UQbicpel",
        "outputId": "cc7153e0-6e92-4421-ba64-3540436653c9"
      },
      "execution_count": 79,
      "outputs": [
        {
          "output_type": "execute_result",
          "data": {
            "text/plain": [
              "<Figure size 1008x504 with 0 Axes>"
            ]
          },
          "metadata": {},
          "execution_count": 79
        },
        {
          "output_type": "display_data",
          "data": {
            "text/plain": [
              "<Figure size 1008x504 with 0 Axes>"
            ]
          },
          "metadata": {}
        }
      ]
    },
    {
      "cell_type": "code",
      "source": [
        "plt.figure(figsize=(14,7))\n",
        "sns.countplot(x='Attrition_Flag',data=bank_df)"
      ],
      "metadata": {
        "colab": {
          "base_uri": "https://localhost:8080/",
          "height": 465
        },
        "id": "p6Ahx6oJcqfA",
        "outputId": "03850fc4-7c37-4a22-b04e-dc08bcce1764"
      },
      "execution_count": 80,
      "outputs": [
        {
          "output_type": "execute_result",
          "data": {
            "text/plain": [
              "<matplotlib.axes._subplots.AxesSubplot at 0x7f1bd0a37790>"
            ]
          },
          "metadata": {},
          "execution_count": 80
        },
        {
          "output_type": "display_data",
          "data": {
            "text/plain": [
              "<Figure size 1008x504 with 1 Axes>"
            ],
            "image/png": "[encoded data removed]"
          },
          "metadata": {}
        }
      ]
    }
  ]
}